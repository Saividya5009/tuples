{
  "nbformat": 4,
  "nbformat_minor": 0,
  "metadata": {
    "colab": {
      "name": "tuples assignment.ipynb",
      "provenance": [],
      "authorship_tag": "ABX9TyOQcXXYZG1omFgsTxMFgWgy",
      "include_colab_link": true
    },
    "kernelspec": {
      "name": "python3",
      "display_name": "Python 3"
    }
  },
  "cells": [
    {
      "cell_type": "markdown",
      "metadata": {
        "id": "view-in-github",
        "colab_type": "text"
      },
      "source": [
        "<a href=\"https://colab.research.google.com/github/Saividya5009/tuples/blob/master/tuples_assignment.ipynb\" target=\"_parent\"><img src=\"https://colab.research.google.com/assets/colab-badge.svg\" alt=\"Open In Colab\"/></a>"
      ]
    },
    {
      "cell_type": "markdown",
      "metadata": {
        "id": "KWtQuw8xE80g",
        "colab_type": "text"
      },
      "source": [
        "#write a python program to create a tuple."
      ]
    },
    {
      "cell_type": "code",
      "metadata": {
        "id": "exK1UsGwFElV",
        "colab_type": "code",
        "colab": {
          "base_uri": "https://localhost:8080/",
          "height": 34
        },
        "outputId": "6b231773-631b-4200-b2b1-4ce16beacb6e"
      },
      "source": [
        "t1=(1,2,3,5,6)\n",
        "print(t1,type(t1))"
      ],
      "execution_count": 4,
      "outputs": [
        {
          "output_type": "stream",
          "text": [
            "(1, 2, 3, 5, 6) <class 'tuple'>\n"
          ],
          "name": "stdout"
        }
      ]
    },
    {
      "cell_type": "markdown",
      "metadata": {
        "id": "grYC5s8fFP_9",
        "colab_type": "text"
      },
      "source": [
        "#write a python program to create a tuple with different data types."
      ]
    },
    {
      "cell_type": "code",
      "metadata": {
        "id": "ydHPzuV7Faj3",
        "colab_type": "code",
        "colab": {
          "base_uri": "https://localhost:8080/",
          "height": 34
        },
        "outputId": "00d1881e-ae66-423a-ed00-c096b9770a39"
      },
      "source": [
        "t1=(1,\"tuple\",'123',3.87)\n",
        "print(t1,type(t1))"
      ],
      "execution_count": 3,
      "outputs": [
        {
          "output_type": "stream",
          "text": [
            "(1, 'tuple', '123', 3.87) <class 'tuple'>\n"
          ],
          "name": "stdout"
        }
      ]
    },
    {
      "cell_type": "markdown",
      "metadata": {
        "id": "0fMSO3yDHljL",
        "colab_type": "text"
      },
      "source": [
        "#write a python program to convert tuple to a string."
      ]
    },
    {
      "cell_type": "code",
      "metadata": {
        "id": "4NZswGoJHz6L",
        "colab_type": "code",
        "colab": {
          "base_uri": "https://localhost:8080/",
          "height": 34
        },
        "outputId": "1e6fff36-0989-41d5-ca6a-7c0d00fc6568"
      },
      "source": [
        "t1=('v','i','d','y','a')\n",
        "t1=''.join(t1)\n",
        "print(t1,type(t1))"
      ],
      "execution_count": 21,
      "outputs": [
        {
          "output_type": "stream",
          "text": [
            "vidya <class 'str'>\n"
          ],
          "name": "stdout"
        }
      ]
    },
    {
      "cell_type": "markdown",
      "metadata": {
        "id": "PL8SPC7sISJH",
        "colab_type": "text"
      },
      "source": [
        "#write a python program to slice a tuple."
      ]
    },
    {
      "cell_type": "code",
      "metadata": {
        "id": "7XHgLdnCIfyV",
        "colab_type": "code",
        "colab": {
          "base_uri": "https://localhost:8080/",
          "height": 34
        },
        "outputId": "4fbae5bf-54d5-4abb-e424-b17cc7d6ffd3"
      },
      "source": [
        "t1=(4,6,4,(3,8),6,9,3,2,8,1)\n",
        "slice=t1[2:6]\n",
        "print(slice)"
      ],
      "execution_count": 12,
      "outputs": [
        {
          "output_type": "stream",
          "text": [
            "(4, (3, 8), 6, 9)\n"
          ],
          "name": "stdout"
        }
      ]
    },
    {
      "cell_type": "markdown",
      "metadata": {
        "id": "pS6pa6w5KO3E",
        "colab_type": "text"
      },
      "source": [
        "#write a python program to find length of a tuple."
      ]
    },
    {
      "cell_type": "code",
      "metadata": {
        "id": "ab6LrzFVKdzE",
        "colab_type": "code",
        "colab": {
          "base_uri": "https://localhost:8080/",
          "height": 34
        },
        "outputId": "e0ed9500-221b-4ea0-84c4-0dfcdbdca03d"
      },
      "source": [
        "t1=(1,2,3,6,8,(5,4,6,73),6,3,5)\n",
        "len(t1)"
      ],
      "execution_count": 13,
      "outputs": [
        {
          "output_type": "execute_result",
          "data": {
            "text/plain": [
              "9"
            ]
          },
          "metadata": {
            "tags": []
          },
          "execution_count": 13
        }
      ]
    },
    {
      "cell_type": "markdown",
      "metadata": {
        "id": "BXOuQZLTKrJJ",
        "colab_type": "text"
      },
      "source": [
        "#write a python program to reverse a tuple."
      ]
    },
    {
      "cell_type": "code",
      "metadata": {
        "id": "RhIW-6xXK5BL",
        "colab_type": "code",
        "colab": {
          "base_uri": "https://localhost:8080/",
          "height": 34
        },
        "outputId": "f873bef6-1deb-4fd0-ccba-f7efbb80ed84"
      },
      "source": [
        "t1=(1,5,7,8,9,3,5)\n",
        "x=reversed(t1)\n",
        "print(tuple(x))"
      ],
      "execution_count": 17,
      "outputs": [
        {
          "output_type": "stream",
          "text": [
            "(5, 3, 9, 8, 7, 5, 1)\n"
          ],
          "name": "stdout"
        }
      ]
    },
    {
      "cell_type": "markdown",
      "metadata": {
        "id": "79bk4MJHMRVl",
        "colab_type": "text"
      },
      "source": [
        "#write a python program to convert list to a tuple."
      ]
    },
    {
      "cell_type": "code",
      "metadata": {
        "id": "cJv5f1v9MXp1",
        "colab_type": "code",
        "colab": {
          "base_uri": "https://localhost:8080/",
          "height": 51
        },
        "outputId": "9e7d0f6a-ee66-4708-dbdf-b36096a41614"
      },
      "source": [
        "list=[1,2,3,6,8,9,4]\n",
        "print(list,type(list))\n",
        "t1=tuple(list)\n",
        "print(t1,type(t1))"
      ],
      "execution_count": 20,
      "outputs": [
        {
          "output_type": "stream",
          "text": [
            "[1, 2, 3, 6, 8, 9, 4] <class 'list'>\n",
            "(1, 2, 3, 6, 8, 9, 4) <class 'tuple'>\n"
          ],
          "name": "stdout"
        }
      ]
    }
  ]
}