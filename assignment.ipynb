{
  "nbformat": 4,
  "nbformat_minor": 0,
  "metadata": {
    "colab": {
      "name": "assignment.ipynb",
      "provenance": [],
      "authorship_tag": "ABX9TyP0IfoY/XrRhbwbzV6/Zu5T",
      "include_colab_link": true
    },
    "kernelspec": {
      "name": "python3",
      "display_name": "Python 3"
    }
  },
  "cells": [
    {
      "cell_type": "markdown",
      "metadata": {
        "id": "view-in-github",
        "colab_type": "text"
      },
      "source": [
        "<a href=\"https://colab.research.google.com/github/Saividya5009/tuples/blob/master/assignment.ipynb\" target=\"_parent\"><img src=\"https://colab.research.google.com/assets/colab-badge.svg\" alt=\"Open In Colab\"/></a>"
      ]
    },
    {
      "cell_type": "markdown",
      "metadata": {
        "id": "wfywwEhqYjWU",
        "colab_type": "text"
      },
      "source": [
        "# write a python program to convert a tuple to dictionary."
      ]
    },
    {
      "cell_type": "code",
      "metadata": {
        "id": "WJ1RxGb_Y93q",
        "colab_type": "code",
        "colab": {
          "base_uri": "https://localhost:8080/",
          "height": 34
        },
        "outputId": "0f3db9fe-c6fb-421b-9b5d-2a538deca66c"
      },
      "source": [
        "t1=((1,'a'),(2,'b'),(3,'e'))\n",
        "print(dict(t1))"
      ],
      "execution_count": 27,
      "outputs": [
        {
          "output_type": "stream",
          "text": [
            "{1: 'a', 2: 'b', 3: 'e'}\n"
          ],
          "name": "stdout"
        }
      ]
    },
    {
      "cell_type": "markdown",
      "metadata": {
        "id": "6VlN01RKaYEK",
        "colab_type": "text"
      },
      "source": [
        "#write a python program to convert a list of tuples into dictionary."
      ]
    },
    {
      "cell_type": "code",
      "metadata": {
        "id": "GVGAg-bqalky",
        "colab_type": "code",
        "colab": {
          "base_uri": "https://localhost:8080/",
          "height": 34
        },
        "outputId": "f4a849c8-e55b-4429-920d-e02f72efef09"
      },
      "source": [
        "A = [(\"vidya\",9),(\"sai\",8),(\"sujatha\",7)]  \n",
        "print (\"The Dictionary Is \",dict(A)) "
      ],
      "execution_count": 23,
      "outputs": [
        {
          "output_type": "stream",
          "text": [
            "The Dictionary Is  {'vidya': 9, 'sai': 8, 'sujatha': 7}\n"
          ],
          "name": "stdout"
        }
      ]
    }
  ]
}